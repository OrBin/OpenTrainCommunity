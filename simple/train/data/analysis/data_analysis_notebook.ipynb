{
 "cells": [
  {
   "cell_type": "code",
   "execution_count": 1,
   "metadata": {
    "collapsed": false
   },
   "outputs": [],
   "source": [
    "import json\n",
    "import psycopg2\n",
    "import requests\n",
    "import pandas as pd\n",
    "import seaborn as sns\n",
    "from matplotlib import pylab as plt\n",
    "%matplotlib inline"
   ]
  },
  {
   "cell_type": "code",
   "execution_count": 2,
   "metadata": {
    "collapsed": false
   },
   "outputs": [],
   "source": [
    "# Connect to the local postgres database, using the train2 latest data\n",
    "try:\n",
    "    #conn = psycopg2.connect(\"dbname='traindata' user='traindata' host='localhost' password='somepassword'\")\n",
    "    conn = psycopg2.connect(\"dbname='train2' user='train2' host='localhost' password='somepassword'\")\n",
    "except:\n",
    "    print(\"Database connection failed\")"
   ]
  },
  {
   "cell_type": "code",
   "execution_count": 4,
   "metadata": {
    "collapsed": false
   },
   "outputs": [],
   "source": [
    "#cur = conn.cursor()\n",
    "#cur.execute(\"\"\"SELECT * FROM data_route LIMIT 10\"\"\")\n",
    "#cur.execute(\"\"\"SELECT * FROM data_trip WHERE route_id=1 LIMIT 10\"\"\")\n",
    "#cur.execute(\"\"\"SELECT id,stop_id,gtfs_stop_id,trip_id FROM data_sample WHERE trip_id=88330 LIMIT 100\"\"\")\n",
    "#print(\"Got {} rows\".format(cur.rowcount))\n",
    "#print(cur.fetchall())"
   ]
  },
  {
   "cell_type": "code",
   "execution_count": 7,
   "metadata": {
    "collapsed": false
   },
   "outputs": [
    {
     "data": {
      "image/png": "[encoded data removed]",
      "text/plain": [
       "<matplotlib.figure.Figure at 0x7f764f3dbf90>"
      ]
     },
     "metadata": {},
     "output_type": "display_data"
    }
   ],
   "source": [
    "res = pd.read_sql_query(\"\"\"\n",
    "    SELECT gtfs_stop_id, actual_departure\n",
    "    FROM data_sample\n",
    "    WHERE trip_id IN (SELECT id FROM data_trip WHERE route_id=1)\n",
    "    \"\"\", conn)\n",
    "agg_deltas = pd.Series()\n",
    "for id in set(res[\"gtfs_stop_id\"]):\n",
    "    subset = res[(res[\"gtfs_stop_id\"] == id)].dropna()\n",
    "    subset = subset.sort_values(\"actual_departure\")\n",
    "    #subset = subset[\"actual_departure\"].diff(-1)\n",
    "    subset_deltas = subset.diff()\n",
    "    agg_deltas = agg_deltas.append(subset_deltas[\"actual_departure\"])\n",
    "deltas = agg_deltas.dropna().values/1000000000/60\n",
    "deltas = map(int, deltas)\n",
    "to_remove = [i for i, val in enumerate(deltas) if val > 60*4]\n",
    "for index in reversed(to_remove):\n",
    "    del deltas[index]\n",
    "ax = sns.distplot(deltas, kde=False)\n",
    "_ = ax.set_xlim(0, 60*4)"
   ]
  },
  {
   "cell_type": "code",
   "execution_count": 6,
   "metadata": {
    "collapsed": true
   },
   "outputs": [],
   "source": [
    "all_stops = json.loads(requests.get('http://otrain.org/api/v1/stops').text)\n",
    "stop_lut = {}\n",
    "for stop_info in all_stops:\n",
    "    stop_lut.update({stop_info['stop_id'] : [stop_info['heb_stop_names'][0], stop_info['stop_name']]})"
   ]
  }
 ],
 "metadata": {
  "kernelspec": {
   "display_name": "Python 2",
   "language": "python",
   "name": "python2"
  },
  "language_info": {
   "codemirror_mode": {
    "name": "ipython",
    "version": 2
   },
   "file_extension": ".py",
   "mimetype": "text/x-python",
   "name": "python",
   "nbconvert_exporter": "python",
   "pygments_lexer": "ipython2",
   "version": "2.7.11"
  }
 },
 "nbformat": 4,
 "nbformat_minor": 0
}
