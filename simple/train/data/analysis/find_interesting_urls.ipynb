{
 "cells": [
  {
   "cell_type": "code",
   "execution_count": 76,
   "metadata": {
    "collapsed": false
   },
   "outputs": [
    {
     "data": {
      "text/plain": [
       "<module 'opentrain_analysis' from 'opentrain_analysis.py'>"
      ]
     },
     "execution_count": 76,
     "metadata": {},
     "output_type": "execute_result"
    }
   ],
   "source": [
    "import os\n",
    "import json\n",
    "import itertools\n",
    "import pandas as pd\n",
    "from matplotlib import pylab as plt\n",
    "from matplotlib import dates as mdates\n",
    "import datetime\n",
    "%matplotlib inline\n",
    "import opentrain_analysis\n",
    "reload(opentrain_analysis)\n",
    "\n",
    "# Data structure for cached route_data:\n",
    "# time - TBD\n",
    "# data - list of entries. Each entry is a dict with the following structure:\n",
    "#   info : {u'hours', u'num_trips', u'week_day'}\n",
    "#   stops : [{u'arrival_on_time_pct', u'arrival_late_pct', \n",
    "#             u'departure_early_pct', u'departure_on_time_pct',\n",
    "#             u'stop_id', u'arrival_early_pct', u'departure_late_pct'}]"
   ]
  },
  {
   "cell_type": "code",
   "execution_count": 77,
   "metadata": {
    "collapsed": false
   },
   "outputs": [],
   "source": [
    "stop_lut = opentrain_analysis.get_stops()"
   ]
  },
  {
   "cell_type": "code",
   "execution_count": 78,
   "metadata": {
    "collapsed": true
   },
   "outputs": [],
   "source": [
    "SMALL_N_THRESHOLD = 10  # greater than"
   ]
  },
  {
   "cell_type": "code",
   "execution_count": 79,
   "metadata": {
    "collapsed": false
   },
   "outputs": [
    {
     "name": "stdout",
     "output_type": "stream",
     "text": [
      "1\n",
      "2\n",
      "3\n",
      "4\n",
      "5\n",
      "6\n",
      "7\n",
      "8\n",
      "9\n",
      "10\n",
      "11\n",
      "12\n",
      "14\n",
      "15\n",
      "16\n",
      "17\n",
      "18\n",
      "19\n",
      "20\n",
      "21\n",
      "22\n",
      "23\n",
      "24\n",
      "25\n",
      "26\n",
      "27\n",
      "28\n",
      "29\n",
      "30\n",
      "31\n",
      "32\n",
      "34\n",
      "35\n",
      "37\n",
      "38\n",
      "39\n",
      "40\n",
      "41\n",
      "42\n",
      "43\n",
      "44\n",
      "47\n",
      "48\n",
      "49\n",
      "51\n",
      "52\n",
      "53\n",
      "54\n",
      "55\n",
      "56\n",
      "57\n",
      "58\n",
      "59\n",
      "60\n",
      "61\n",
      "62\n",
      "63\n",
      "64\n",
      "65\n",
      "66\n",
      "67\n",
      "68\n",
      "69\n",
      "70\n",
      "71\n",
      "72\n",
      "73\n",
      "75\n",
      "77\n",
      "78\n",
      "80\n",
      "81\n",
      "83\n",
      "84\n",
      "87\n",
      "88\n",
      "89\n",
      "90\n",
      "93\n",
      "94\n",
      "95\n",
      "96\n",
      "97\n",
      "104\n",
      "106\n",
      "107\n",
      "108\n",
      "109\n",
      "118\n",
      "120\n",
      "121\n",
      "123\n",
      "124\n",
      "125\n",
      "145\n",
      "152\n",
      "153\n",
      "154\n",
      "157\n",
      "161\n",
      "203\n",
      "207\n",
      "210\n",
      "221\n",
      "225\n",
      "246\n",
      "248\n",
      "270\n",
      "292\n",
      "302\n",
      "310\n",
      "316\n",
      "317\n",
      "318\n",
      "435\n",
      "437\n",
      "528\n",
      "533\n",
      "538\n",
      "539\n",
      "552\n",
      "560\n",
      "621\n",
      "622\n",
      "677\n",
      "679\n",
      "690\n",
      "696\n",
      "802\n",
      "921\n",
      "922\n",
      "923\n",
      "927\n",
      "931\n",
      "942\n",
      "968\n",
      "990\n",
      "1138\n",
      "1143\n",
      "1174\n",
      "1175\n",
      "1196\n",
      "1197\n",
      "1336\n",
      "1337\n",
      "1402\n",
      "1442\n",
      "1469\n",
      "1512\n",
      "1513\n",
      "1516\n",
      "1517\n",
      "1519\n"
     ]
    }
   ],
   "source": [
    "# Print route numbers that pass filter\n",
    "routes = opentrain_analysis.get_routes_above_threshold(SMALL_N_THRESHOLD)\n",
    "for route in routes:\n",
    "    print(route)"
   ]
  },
  {
   "cell_type": "code",
   "execution_count": 81,
   "metadata": {
    "collapsed": false
   },
   "outputs": [
    {
     "name": "stdout",
     "output_type": "stream",
     "text": [
      "-----  Mean  -----\n",
      "arrival_early_pct           0.125394\n",
      "arrival_late_pct            0.127632\n",
      "arrival_on_time_pct         0.746519\n",
      "departure_early_pct         0.029273\n",
      "departure_late_pct          0.123080\n",
      "departure_on_time_pct       0.756738\n",
      "hours                       1.176471\n",
      "month                       5.460784\n",
      "num_trips                  30.156863\n",
      "stop_id                  3027.272727\n",
      "year                     2015.225490\n",
      "dtype: float64\n",
      "----- StdDev -----\n",
      "arrival_early_pct           0.165435\n",
      "arrival_late_pct            0.125341\n",
      "arrival_on_time_pct         0.182226\n",
      "departure_early_pct         0.103646\n",
      "departure_late_pct          0.130301\n",
      "departure_on_time_pct       0.283847\n",
      "hours                       2.834580\n",
      "month                       3.670989\n",
      "num_trips                  27.312158\n",
      "stop_id                  1968.381979\n",
      "year                        0.418091\n",
      "dtype: float64\n",
      "1122 total records\n",
      "13 records late departure > mean + 3*stddev\n"
     ]
    },
    {
     "name": "stderr",
     "output_type": "stream",
     "text": [
      "/usr/local/lib/python2.7/dist-packages/ipykernel/__main__.py:24: SettingWithCopyWarning: \n",
      "A value is trying to be set on a copy of a slice from a DataFrame.\n",
      "Try using .loc[row_indexer,col_indexer] = value instead\n",
      "\n",
      "See the caveats in the documentation: http://pandas.pydata.org/pandas-docs/stable/indexing.html#indexing-view-versus-copy\n"
     ]
    },
    {
     "data": {
      "text/html": [
       "<div>\n",
       "<table border=\"1\" class=\"dataframe\">\n",
       "  <thead>\n",
       "    <tr style=\"text-align: right;\">\n",
       "      <th></th>\n",
       "      <th>departure_late_pct</th>\n",
       "      <th>url</th>\n",
       "      <th>month</th>\n",
       "      <th>year</th>\n",
       "      <th>stop_id</th>\n",
       "      <th>stop_name_heb</th>\n",
       "    </tr>\n",
       "  </thead>\n",
       "  <tbody>\n",
       "    <tr>\n",
       "      <th>996</th>\n",
       "      <td>0.545455</td>\n",
       "      <td>http://otrain.org/#/201511/routes/2?day=5&amp;time=</td>\n",
       "      <td>11</td>\n",
       "      <td>2015</td>\n",
       "      <td>2300</td>\n",
       "      <td>חיפה חוף הכרמל רזיאל</td>\n",
       "    </tr>\n",
       "    <tr>\n",
       "      <th>882</th>\n",
       "      <td>0.750000</td>\n",
       "      <td>http://otrain.org/#/201509/routes/2?day=6&amp;time=</td>\n",
       "      <td>9</td>\n",
       "      <td>2015</td>\n",
       "      <td>3500</td>\n",
       "      <td>הרצליה</td>\n",
       "    </tr>\n",
       "    <tr>\n",
       "      <th>883</th>\n",
       "      <td>0.833333</td>\n",
       "      <td>http://otrain.org/#/201509/routes/2?day=6&amp;time=</td>\n",
       "      <td>9</td>\n",
       "      <td>2015</td>\n",
       "      <td>3300</td>\n",
       "      <td>נתניה</td>\n",
       "    </tr>\n",
       "    <tr>\n",
       "      <th>884</th>\n",
       "      <td>0.833333</td>\n",
       "      <td>http://otrain.org/#/201509/routes/2?day=6&amp;time=</td>\n",
       "      <td>9</td>\n",
       "      <td>2015</td>\n",
       "      <td>3100</td>\n",
       "      <td>חדרה מערב</td>\n",
       "    </tr>\n",
       "    <tr>\n",
       "      <th>885</th>\n",
       "      <td>0.833333</td>\n",
       "      <td>http://otrain.org/#/201509/routes/2?day=6&amp;time=</td>\n",
       "      <td>9</td>\n",
       "      <td>2015</td>\n",
       "      <td>2800</td>\n",
       "      <td>בנימינה</td>\n",
       "    </tr>\n",
       "    <tr>\n",
       "      <th>886</th>\n",
       "      <td>0.833333</td>\n",
       "      <td>http://otrain.org/#/201509/routes/2?day=6&amp;time=</td>\n",
       "      <td>9</td>\n",
       "      <td>2015</td>\n",
       "      <td>2300</td>\n",
       "      <td>חיפה חוף הכרמל רזיאל</td>\n",
       "    </tr>\n",
       "    <tr>\n",
       "      <th>887</th>\n",
       "      <td>0.750000</td>\n",
       "      <td>http://otrain.org/#/201509/routes/2?day=6&amp;time=</td>\n",
       "      <td>9</td>\n",
       "      <td>2015</td>\n",
       "      <td>2100</td>\n",
       "      <td>חיפה מרכז השמונה</td>\n",
       "    </tr>\n",
       "    <tr>\n",
       "      <th>888</th>\n",
       "      <td>0.666667</td>\n",
       "      <td>http://otrain.org/#/201509/routes/2?day=6&amp;time=</td>\n",
       "      <td>9</td>\n",
       "      <td>2015</td>\n",
       "      <td>800</td>\n",
       "      <td>קריית מוצקין</td>\n",
       "    </tr>\n",
       "    <tr>\n",
       "      <th>889</th>\n",
       "      <td>0.750000</td>\n",
       "      <td>http://otrain.org/#/201509/routes/2?day=6&amp;time=</td>\n",
       "      <td>9</td>\n",
       "      <td>2015</td>\n",
       "      <td>1500</td>\n",
       "      <td>עכו</td>\n",
       "    </tr>\n",
       "    <tr>\n",
       "      <th>806</th>\n",
       "      <td>0.666667</td>\n",
       "      <td>http://otrain.org/#/201508/routes/2?day=5&amp;time=</td>\n",
       "      <td>8</td>\n",
       "      <td>2015</td>\n",
       "      <td>3300</td>\n",
       "      <td>נתניה</td>\n",
       "    </tr>\n",
       "    <tr>\n",
       "      <th>807</th>\n",
       "      <td>0.583333</td>\n",
       "      <td>http://otrain.org/#/201508/routes/2?day=5&amp;time=</td>\n",
       "      <td>8</td>\n",
       "      <td>2015</td>\n",
       "      <td>3100</td>\n",
       "      <td>חדרה מערב</td>\n",
       "    </tr>\n",
       "    <tr>\n",
       "      <th>808</th>\n",
       "      <td>0.583333</td>\n",
       "      <td>http://otrain.org/#/201508/routes/2?day=5&amp;time=</td>\n",
       "      <td>8</td>\n",
       "      <td>2015</td>\n",
       "      <td>2800</td>\n",
       "      <td>בנימינה</td>\n",
       "    </tr>\n",
       "    <tr>\n",
       "      <th>534</th>\n",
       "      <td>0.533333</td>\n",
       "      <td>http://otrain.org/#/201504/routes/2?day=5&amp;time=</td>\n",
       "      <td>4</td>\n",
       "      <td>2015</td>\n",
       "      <td>2300</td>\n",
       "      <td>חיפה חוף הכרמל רזיאל</td>\n",
       "    </tr>\n",
       "  </tbody>\n",
       "</table>\n",
       "</div>"
      ],
      "text/plain": [
       "     departure_late_pct                                              url  \\\n",
       "996            0.545455  http://otrain.org/#/201511/routes/2?day=5&time=   \n",
       "882            0.750000  http://otrain.org/#/201509/routes/2?day=6&time=   \n",
       "883            0.833333  http://otrain.org/#/201509/routes/2?day=6&time=   \n",
       "884            0.833333  http://otrain.org/#/201509/routes/2?day=6&time=   \n",
       "885            0.833333  http://otrain.org/#/201509/routes/2?day=6&time=   \n",
       "886            0.833333  http://otrain.org/#/201509/routes/2?day=6&time=   \n",
       "887            0.750000  http://otrain.org/#/201509/routes/2?day=6&time=   \n",
       "888            0.666667  http://otrain.org/#/201509/routes/2?day=6&time=   \n",
       "889            0.750000  http://otrain.org/#/201509/routes/2?day=6&time=   \n",
       "806            0.666667  http://otrain.org/#/201508/routes/2?day=5&time=   \n",
       "807            0.583333  http://otrain.org/#/201508/routes/2?day=5&time=   \n",
       "808            0.583333  http://otrain.org/#/201508/routes/2?day=5&time=   \n",
       "534            0.533333  http://otrain.org/#/201504/routes/2?day=5&time=   \n",
       "\n",
       "     month  year  stop_id         stop_name_heb  \n",
       "996     11  2015     2300  חיפה חוף הכרמל רזיאל  \n",
       "882      9  2015     3500                הרצליה  \n",
       "883      9  2015     3300                 נתניה  \n",
       "884      9  2015     3100             חדרה מערב  \n",
       "885      9  2015     2800               בנימינה  \n",
       "886      9  2015     2300  חיפה חוף הכרמל רזיאל  \n",
       "887      9  2015     2100      חיפה מרכז השמונה  \n",
       "888      9  2015      800          קריית מוצקין  \n",
       "889      9  2015     1500                   עכו  \n",
       "806      8  2015     3300                 נתניה  \n",
       "807      8  2015     3100             חדרה מערב  \n",
       "808      8  2015     2800               בנימינה  \n",
       "534      4  2015     2300  חיפה חוף הכרמל רזיאל  "
      ]
     },
     "execution_count": 81,
     "metadata": {},
     "output_type": "execute_result"
    }
   ],
   "source": [
    "# Look at results for one route ID\n",
    "route_id = 2\n",
    "OUTLIER_MUL = 3\n",
    "\n",
    "df = opentrain_analysis.get_route_by_id(route_id, SMALL_N_THRESHOLD)\n",
    "\n",
    "print '-----  Mean  -----'\n",
    "means = df.mean()\n",
    "print means\n",
    "print '----- StdDev -----'\n",
    "stds = df.std()\n",
    "print stds\n",
    "\n",
    "print \"%d total records\" % len(df)\n",
    "lates = df[df['departure_late_pct'] > means['departure_late_pct']+OUTLIER_MUL*stds['departure_late_pct']]\n",
    "print \"%d records late departure > mean + %d*stddev\" % (len(lates), OUTLIER_MUL)\n",
    "#with pd.option_context('display.max_rows', 999, 'display.max_columns', 3):\n",
    "pd.options.display.max_colwidth = 999\n",
    "pd.options.display.max_rows = 999\n",
    "#lates[['departure_late_pct','arrival_late_pct','url','num_trips','stop_id','month','year']].sort_values(by='departure_late_pct', ascending=False).head(999)\n",
    "#all_hours = lates[(lates['hours'] == 0) & (lates['week_day'] == 1)]\n",
    "#all_hours = lates[(lates['hours'] == 0)]\n",
    "all_hours = lates\n",
    "all_hours['stop_name_heb'] = [stop_lut[i][0] for i in all_hours['stop_id']]\n",
    "all_hours[['departure_late_pct','url','month','year','stop_id','stop_name_heb']].sort_values(by=['year', 'month'], ascending=False).head(999)\n",
    "#lates.groupby('month').count()"
   ]
  },
  {
   "cell_type": "code",
   "execution_count": 58,
   "metadata": {
    "collapsed": false
   },
   "outputs": [
    {
     "name": "stdout",
     "output_type": "stream",
     "text": [
      "Index([    u'arrival_early_pct',      u'arrival_late_pct',\n",
      "         u'arrival_on_time_pct',   u'departure_early_pct',\n",
      "          u'departure_late_pct', u'departure_on_time_pct',\n",
      "                       u'hours',                 u'month',\n",
      "                   u'num_trips',               u'stop_id',\n",
      "                         u'url',              u'week_day',\n",
      "                        u'year'],\n",
      "      dtype='object')\n",
      "19019\n"
     ]
    },
    {
     "data": {
      "text/plain": [
       "<matplotlib.text.Text at 0x7ff3e5c21090>"
      ]
     },
     "execution_count": 58,
     "metadata": {},
     "output_type": "execute_result"
    },
    {
     "data": {
      "image/png": "[encoded data removed]",
      "text/plain": [
       "<matplotlib.figure.Figure at 0x7ff3e4ad2810>"
      ]
     },
     "metadata": {},
     "output_type": "display_data"
    }
   ],
   "source": [
    "print(df.columns)\n",
    "print(df.size)\n",
    "plt.scatter(df['arrival_late_pct'], df['departure_late_pct'])\n",
    "#plt.scatter(df['arrival_early_pct'], df['departure_early_pct'])\n",
    "plt.xlabel('Arrival late')\n",
    "plt.ylabel('Departure late')"
   ]
  },
  {
   "cell_type": "code",
   "execution_count": 47,
   "metadata": {
    "collapsed": false
   },
   "outputs": [
    {
     "name": "stdout",
     "output_type": "stream",
     "text": [
      "1\n",
      "2\n",
      "3\n",
      "4\n",
      "5\n",
      "6\n",
      "7\n"
     ]
    },
    {
     "data": {
      "image/png": "[encoded data removed]",
      "text/plain": [
       "<matplotlib.figure.Figure at 0x7ff3e57a1810>"
      ]
     },
     "metadata": {},
     "output_type": "display_data"
    }
   ],
   "source": [
    "good_samples = df[df['num_trips'] > SMALL_N_THRESHOLD]\n",
    "today = good_samples[2 == good_samples['week_day']]\n",
    "for day in xrange(1, 8):\n",
    "    print day\n",
    "    today = good_samples[day == good_samples['week_day']]\n",
    "    if len(today) > 0:\n",
    "        plt.hist(today['departure_late_pct'].values, bins=16, alpha=0.5)\n",
    "plt.show()"
   ]
  },
  {
   "cell_type": "code",
   "execution_count": 25,
   "metadata": {
    "collapsed": false
   },
   "outputs": [
    {
     "ename": "KeyError",
     "evalue": "'departure_late_pct'",
     "output_type": "error",
     "traceback": [
      "\u001b[1;31m---------------------------------------------------------------------------\u001b[0m",
      "\u001b[1;31mKeyError\u001b[0m                                  Traceback (most recent call last)",
      "\u001b[1;32m<ipython-input-25-cb85e511c827>\u001b[0m in \u001b[0;36m<module>\u001b[1;34m()\u001b[0m\n\u001b[0;32m     23\u001b[0m \u001b[1;31m#data_for_plot = data_for_plot.sort_values('time')\u001b[0m\u001b[1;33m\u001b[0m\u001b[1;33m\u001b[0m\u001b[0m\n\u001b[0;32m     24\u001b[0m \u001b[1;33m\u001b[0m\u001b[0m\n\u001b[1;32m---> 25\u001b[1;33m \u001b[0mplt\u001b[0m\u001b[1;33m.\u001b[0m\u001b[0mscatter\u001b[0m\u001b[1;33m(\u001b[0m\u001b[0mxrange\u001b[0m\u001b[1;33m(\u001b[0m\u001b[0mlen\u001b[0m\u001b[1;33m(\u001b[0m\u001b[0mdata_for_plot\u001b[0m\u001b[1;33m)\u001b[0m\u001b[1;33m)\u001b[0m\u001b[1;33m,\u001b[0m \u001b[0mdata_for_plot\u001b[0m\u001b[1;33m[\u001b[0m\u001b[1;34m'departure_late_pct'\u001b[0m\u001b[1;33m]\u001b[0m\u001b[1;33m.\u001b[0m\u001b[0mvalues\u001b[0m\u001b[1;33m)\u001b[0m\u001b[1;33m\u001b[0m\u001b[0m\n\u001b[0m\u001b[0;32m     26\u001b[0m plt.annotate('Jun 2013', xy=(6, 5.6), xytext=(-2, 7),\n\u001b[0;32m     27\u001b[0m             arrowprops=dict(facecolor='black', shrink=0.01, width=1, headwidth=8))\n",
      "\u001b[1;32m/usr/local/lib/python2.7/dist-packages/pandas/core/frame.pyc\u001b[0m in \u001b[0;36m__getitem__\u001b[1;34m(self, key)\u001b[0m\n\u001b[0;32m   1995\u001b[0m             \u001b[1;32mreturn\u001b[0m \u001b[0mself\u001b[0m\u001b[1;33m.\u001b[0m\u001b[0m_getitem_multilevel\u001b[0m\u001b[1;33m(\u001b[0m\u001b[0mkey\u001b[0m\u001b[1;33m)\u001b[0m\u001b[1;33m\u001b[0m\u001b[0m\n\u001b[0;32m   1996\u001b[0m         \u001b[1;32melse\u001b[0m\u001b[1;33m:\u001b[0m\u001b[1;33m\u001b[0m\u001b[0m\n\u001b[1;32m-> 1997\u001b[1;33m             \u001b[1;32mreturn\u001b[0m \u001b[0mself\u001b[0m\u001b[1;33m.\u001b[0m\u001b[0m_getitem_column\u001b[0m\u001b[1;33m(\u001b[0m\u001b[0mkey\u001b[0m\u001b[1;33m)\u001b[0m\u001b[1;33m\u001b[0m\u001b[0m\n\u001b[0m\u001b[0;32m   1998\u001b[0m \u001b[1;33m\u001b[0m\u001b[0m\n\u001b[0;32m   1999\u001b[0m     \u001b[1;32mdef\u001b[0m \u001b[0m_getitem_column\u001b[0m\u001b[1;33m(\u001b[0m\u001b[0mself\u001b[0m\u001b[1;33m,\u001b[0m \u001b[0mkey\u001b[0m\u001b[1;33m)\u001b[0m\u001b[1;33m:\u001b[0m\u001b[1;33m\u001b[0m\u001b[0m\n",
      "\u001b[1;32m/usr/local/lib/python2.7/dist-packages/pandas/core/frame.pyc\u001b[0m in \u001b[0;36m_getitem_column\u001b[1;34m(self, key)\u001b[0m\n\u001b[0;32m   2002\u001b[0m         \u001b[1;31m# get column\u001b[0m\u001b[1;33m\u001b[0m\u001b[1;33m\u001b[0m\u001b[0m\n\u001b[0;32m   2003\u001b[0m         \u001b[1;32mif\u001b[0m \u001b[0mself\u001b[0m\u001b[1;33m.\u001b[0m\u001b[0mcolumns\u001b[0m\u001b[1;33m.\u001b[0m\u001b[0mis_unique\u001b[0m\u001b[1;33m:\u001b[0m\u001b[1;33m\u001b[0m\u001b[0m\n\u001b[1;32m-> 2004\u001b[1;33m             \u001b[1;32mreturn\u001b[0m \u001b[0mself\u001b[0m\u001b[1;33m.\u001b[0m\u001b[0m_get_item_cache\u001b[0m\u001b[1;33m(\u001b[0m\u001b[0mkey\u001b[0m\u001b[1;33m)\u001b[0m\u001b[1;33m\u001b[0m\u001b[0m\n\u001b[0m\u001b[0;32m   2005\u001b[0m \u001b[1;33m\u001b[0m\u001b[0m\n\u001b[0;32m   2006\u001b[0m         \u001b[1;31m# duplicate columns & possible reduce dimensionality\u001b[0m\u001b[1;33m\u001b[0m\u001b[1;33m\u001b[0m\u001b[0m\n",
      "\u001b[1;32m/usr/local/lib/python2.7/dist-packages/pandas/core/generic.pyc\u001b[0m in \u001b[0;36m_get_item_cache\u001b[1;34m(self, item)\u001b[0m\n\u001b[0;32m   1348\u001b[0m         \u001b[0mres\u001b[0m \u001b[1;33m=\u001b[0m \u001b[0mcache\u001b[0m\u001b[1;33m.\u001b[0m\u001b[0mget\u001b[0m\u001b[1;33m(\u001b[0m\u001b[0mitem\u001b[0m\u001b[1;33m)\u001b[0m\u001b[1;33m\u001b[0m\u001b[0m\n\u001b[0;32m   1349\u001b[0m         \u001b[1;32mif\u001b[0m \u001b[0mres\u001b[0m \u001b[1;32mis\u001b[0m \u001b[0mNone\u001b[0m\u001b[1;33m:\u001b[0m\u001b[1;33m\u001b[0m\u001b[0m\n\u001b[1;32m-> 1350\u001b[1;33m             \u001b[0mvalues\u001b[0m \u001b[1;33m=\u001b[0m \u001b[0mself\u001b[0m\u001b[1;33m.\u001b[0m\u001b[0m_data\u001b[0m\u001b[1;33m.\u001b[0m\u001b[0mget\u001b[0m\u001b[1;33m(\u001b[0m\u001b[0mitem\u001b[0m\u001b[1;33m)\u001b[0m\u001b[1;33m\u001b[0m\u001b[0m\n\u001b[0m\u001b[0;32m   1351\u001b[0m             \u001b[0mres\u001b[0m \u001b[1;33m=\u001b[0m \u001b[0mself\u001b[0m\u001b[1;33m.\u001b[0m\u001b[0m_box_item_values\u001b[0m\u001b[1;33m(\u001b[0m\u001b[0mitem\u001b[0m\u001b[1;33m,\u001b[0m \u001b[0mvalues\u001b[0m\u001b[1;33m)\u001b[0m\u001b[1;33m\u001b[0m\u001b[0m\n\u001b[0;32m   1352\u001b[0m             \u001b[0mcache\u001b[0m\u001b[1;33m[\u001b[0m\u001b[0mitem\u001b[0m\u001b[1;33m]\u001b[0m \u001b[1;33m=\u001b[0m \u001b[0mres\u001b[0m\u001b[1;33m\u001b[0m\u001b[0m\n",
      "\u001b[1;32m/usr/local/lib/python2.7/dist-packages/pandas/core/internals.pyc\u001b[0m in \u001b[0;36mget\u001b[1;34m(self, item, fastpath)\u001b[0m\n\u001b[0;32m   3288\u001b[0m \u001b[1;33m\u001b[0m\u001b[0m\n\u001b[0;32m   3289\u001b[0m             \u001b[1;32mif\u001b[0m \u001b[1;32mnot\u001b[0m \u001b[0misnull\u001b[0m\u001b[1;33m(\u001b[0m\u001b[0mitem\u001b[0m\u001b[1;33m)\u001b[0m\u001b[1;33m:\u001b[0m\u001b[1;33m\u001b[0m\u001b[0m\n\u001b[1;32m-> 3290\u001b[1;33m                 \u001b[0mloc\u001b[0m \u001b[1;33m=\u001b[0m \u001b[0mself\u001b[0m\u001b[1;33m.\u001b[0m\u001b[0mitems\u001b[0m\u001b[1;33m.\u001b[0m\u001b[0mget_loc\u001b[0m\u001b[1;33m(\u001b[0m\u001b[0mitem\u001b[0m\u001b[1;33m)\u001b[0m\u001b[1;33m\u001b[0m\u001b[0m\n\u001b[0m\u001b[0;32m   3291\u001b[0m             \u001b[1;32melse\u001b[0m\u001b[1;33m:\u001b[0m\u001b[1;33m\u001b[0m\u001b[0m\n\u001b[0;32m   3292\u001b[0m                 \u001b[0mindexer\u001b[0m \u001b[1;33m=\u001b[0m \u001b[0mnp\u001b[0m\u001b[1;33m.\u001b[0m\u001b[0marange\u001b[0m\u001b[1;33m(\u001b[0m\u001b[0mlen\u001b[0m\u001b[1;33m(\u001b[0m\u001b[0mself\u001b[0m\u001b[1;33m.\u001b[0m\u001b[0mitems\u001b[0m\u001b[1;33m)\u001b[0m\u001b[1;33m)\u001b[0m\u001b[1;33m[\u001b[0m\u001b[0misnull\u001b[0m\u001b[1;33m(\u001b[0m\u001b[0mself\u001b[0m\u001b[1;33m.\u001b[0m\u001b[0mitems\u001b[0m\u001b[1;33m)\u001b[0m\u001b[1;33m]\u001b[0m\u001b[1;33m\u001b[0m\u001b[0m\n",
      "\u001b[1;32m/usr/local/lib/python2.7/dist-packages/pandas/indexes/base.pyc\u001b[0m in \u001b[0;36mget_loc\u001b[1;34m(self, key, method, tolerance)\u001b[0m\n\u001b[0;32m   1945\u001b[0m                 \u001b[1;32mreturn\u001b[0m \u001b[0mself\u001b[0m\u001b[1;33m.\u001b[0m\u001b[0m_engine\u001b[0m\u001b[1;33m.\u001b[0m\u001b[0mget_loc\u001b[0m\u001b[1;33m(\u001b[0m\u001b[0mkey\u001b[0m\u001b[1;33m)\u001b[0m\u001b[1;33m\u001b[0m\u001b[0m\n\u001b[0;32m   1946\u001b[0m             \u001b[1;32mexcept\u001b[0m \u001b[0mKeyError\u001b[0m\u001b[1;33m:\u001b[0m\u001b[1;33m\u001b[0m\u001b[0m\n\u001b[1;32m-> 1947\u001b[1;33m                 \u001b[1;32mreturn\u001b[0m \u001b[0mself\u001b[0m\u001b[1;33m.\u001b[0m\u001b[0m_engine\u001b[0m\u001b[1;33m.\u001b[0m\u001b[0mget_loc\u001b[0m\u001b[1;33m(\u001b[0m\u001b[0mself\u001b[0m\u001b[1;33m.\u001b[0m\u001b[0m_maybe_cast_indexer\u001b[0m\u001b[1;33m(\u001b[0m\u001b[0mkey\u001b[0m\u001b[1;33m)\u001b[0m\u001b[1;33m)\u001b[0m\u001b[1;33m\u001b[0m\u001b[0m\n\u001b[0m\u001b[0;32m   1948\u001b[0m \u001b[1;33m\u001b[0m\u001b[0m\n\u001b[0;32m   1949\u001b[0m         \u001b[0mindexer\u001b[0m \u001b[1;33m=\u001b[0m \u001b[0mself\u001b[0m\u001b[1;33m.\u001b[0m\u001b[0mget_indexer\u001b[0m\u001b[1;33m(\u001b[0m\u001b[1;33m[\u001b[0m\u001b[0mkey\u001b[0m\u001b[1;33m]\u001b[0m\u001b[1;33m,\u001b[0m \u001b[0mmethod\u001b[0m\u001b[1;33m=\u001b[0m\u001b[0mmethod\u001b[0m\u001b[1;33m,\u001b[0m \u001b[0mtolerance\u001b[0m\u001b[1;33m=\u001b[0m\u001b[0mtolerance\u001b[0m\u001b[1;33m)\u001b[0m\u001b[1;33m\u001b[0m\u001b[0m\n",
      "\u001b[1;32mpandas/index.pyx\u001b[0m in \u001b[0;36mpandas.index.IndexEngine.get_loc (pandas/index.c:4154)\u001b[1;34m()\u001b[0m\n",
      "\u001b[1;32mpandas/index.pyx\u001b[0m in \u001b[0;36mpandas.index.IndexEngine.get_loc (pandas/index.c:4018)\u001b[1;34m()\u001b[0m\n",
      "\u001b[1;32mpandas/hashtable.pyx\u001b[0m in \u001b[0;36mpandas.hashtable.PyObjectHashTable.get_item (pandas/hashtable.c:12368)\u001b[1;34m()\u001b[0m\n",
      "\u001b[1;32mpandas/hashtable.pyx\u001b[0m in \u001b[0;36mpandas.hashtable.PyObjectHashTable.get_item (pandas/hashtable.c:12322)\u001b[1;34m()\u001b[0m\n",
      "\u001b[1;31mKeyError\u001b[0m: 'departure_late_pct'"
     ]
    }
   ],
   "source": [
    "# Generate time series plot of late departures\n",
    "route_id = 100\n",
    "if os.path.isfile(\"%scache_%s.json\" % (CACHE_PATH, route_id)):\n",
    "    with open(\"%scache_%s.json\" % (CACHE_PATH, route_id), 'r') as input_file:\n",
    "        route_data = json.load(input_file)\n",
    "\n",
    "data_for_plot = pd.DataFrame()\n",
    "for time, data in route_data:\n",
    "    data_for_plot_all = []\n",
    "    for entry in data:\n",
    "        # info : {u'hours', u'num_trips', u'week_day'}\n",
    "        # stops : [{u'arrival_on_time_pct', u'arrival_late_pct', \n",
    "        #           u'departure_early_pct', u'departure_on_time_pct',\n",
    "        #           u'stop_id', u'arrival_early_pct', u'departure_late_pct'}]\n",
    "        if ('all' == entry['info']['week_day'] and 'all' == entry['info']['hours']):\n",
    "            for stops in entry['stops']:\n",
    "                if stops['stop_id'] == 4170:\n",
    "                    tmp = pd.DataFrame({'time':datetime.datetime(time[0], time[1], 1),\n",
    "                                        'departure_late_pct':stops['departure_late_pct']*100},\n",
    "                                        index=[0])\n",
    "                    data_for_plot = data_for_plot.append(tmp)\n",
    "\n",
    "data_for_plot = data_for_plot.sort_values('time')\n",
    "\n",
    "plt.scatter(xrange(len(data_for_plot)), data_for_plot.sort_values('time')['departure_late_pct'].values)\n",
    "plt.annotate('Jun 2013', xy=(6, 5.6), xytext=(-2, 7),\n",
    "            arrowprops=dict(facecolor='black', shrink=0.01, width=1, headwidth=8))\n",
    "plt.xticks([])\n",
    "plt.xlabel('Time')\n",
    "plt.ylabel('Percent late departures')\n",
    "plt.ylim([-1, 15])\n",
    "plt.title('Late departures over time (Petah Tikva Kiryat Aryeh)')"
   ]
  },
  {
   "cell_type": "code",
   "execution_count": null,
   "metadata": {
    "collapsed": false
   },
   "outputs": [],
   "source": [
    "data_for_plot.reset_index().head(100)"
   ]
  },
  {
   "cell_type": "code",
   "execution_count": null,
   "metadata": {
    "collapsed": true
   },
   "outputs": [],
   "source": []
  },
  {
   "cell_type": "code",
   "execution_count": null,
   "metadata": {
    "collapsed": true
   },
   "outputs": [],
   "source": []
  }
 ],
 "metadata": {
  "kernelspec": {
   "display_name": "Python 2",
   "language": "python",
   "name": "python2"
  },
  "language_info": {
   "codemirror_mode": {
    "name": "ipython",
    "version": 2
   },
   "file_extension": ".py",
   "mimetype": "text/x-python",
   "name": "python",
   "nbconvert_exporter": "python",
   "pygments_lexer": "ipython2",
   "version": "2.7.6"
  }
 },
 "nbformat": 4,
 "nbformat_minor": 0
}
